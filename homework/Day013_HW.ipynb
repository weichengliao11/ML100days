{
 "cells": [
  {
   "cell_type": "markdown",
   "metadata": {
    "colab_type": "text",
    "id": "P6xk2_jLsvFF"
   },
   "source": [
    "# [作業目標]\n",
    "\n",
    "\n",
    "1. 請接下列資料依照指定規則做合併：\n",
    "\n",
    "```\n",
    "- 依照 fruit 欄位做合併\n",
    "- 依照 index 索引做合併\n",
    "```\n",
    "\n",
    "2. [簡答題] 承上題，請問為什麼依照 merge 合併後有些資料不見了？\n",
    "\n",
    "3. [簡答題] 承上題，請問為什麼依照 index 合併會發生錯誤？請用程式解決。"
   ]
  },
  {
   "cell_type": "markdown",
   "metadata": {
    "colab_type": "text",
    "id": "uXGll28asvFS"
   },
   "source": [
    "# 作業 "
   ]
  },
  {
   "cell_type": "code",
   "execution_count": 17,
   "metadata": {},
   "outputs": [],
   "source": [
    "import numpy as np\n",
    "import pandas as pd"
   ]
  },
  {
   "cell_type": "markdown",
   "metadata": {},
   "source": [
    "### 1. 請接下列資料依照指定規則做合併：\n",
    "\n",
    "```\n",
    "- 依照 fruit 欄位做合併\n",
    "- 依照 index 索引做合併\n",
    "```\n"
   ]
  },
  {
   "cell_type": "code",
   "execution_count": 18,
   "metadata": {
    "colab": {},
    "colab_type": "code",
    "id": "5QrYoyNWsvFS"
   },
   "outputs": [
    {
     "name": "stdout",
     "output_type": "stream",
     "text": [
      "    fruit  weight  price\n",
      "0   apple    high      3\n",
      "1  banana  medium      9\n",
      "2  orange     low      6\n",
      "3   apple    high      3\n",
      "4  banana  medium     13\n",
      "5  orange     low      5\n",
      "6   apple    high      8\n",
      "7  banana  medium      6\n",
      "8  orange     low     11\n",
      "    fruit weight  price\n",
      "0   apple   high      7\n",
      "1  orange    low      1\n",
      "2    pine   high      5\n",
      "3   apple    low      0\n",
      "4  orange   high      8\n",
      "5    pine    low     13\n"
     ]
    }
   ],
   "source": [
    "df1 = pd.DataFrame({\n",
    "    'fruit': ['apple', 'banana', 'orange'] * 3,\n",
    "    'weight': ['high', 'medium', 'low'] * 3,\n",
    "    'price': np.random.randint(0, 15, 9)\n",
    "})\n",
    "\n",
    "df2 = pd.DataFrame({\n",
    "    'fruit': ['apple', 'orange', 'pine'] * 2,\n",
    "    'weight': ['high', 'low'] * 3,\n",
    "    'price': np.random.randint(0, 15, 6)\n",
    "})\n",
    "print(df1)\n",
    "print(df2)"
   ]
  },
  {
   "cell_type": "code",
   "execution_count": 19,
   "metadata": {},
   "outputs": [
    {
     "name": "stdout",
     "output_type": "stream",
     "text": [
      "     fruit  weight  price\n",
      "0    apple    high      3\n",
      "1   banana  medium      9\n",
      "2   orange     low      6\n",
      "3    apple    high      3\n",
      "4   banana  medium     13\n",
      "5   orange     low      5\n",
      "6    apple    high      8\n",
      "7   banana  medium      6\n",
      "8   orange     low     11\n",
      "9    apple    high      7\n",
      "10  orange     low      1\n",
      "11    pine    high      5\n",
      "12   apple     low      0\n",
      "13  orange    high      8\n",
      "14    pine     low     13\n",
      "---\n",
      "     fruit weight_x  price_x weight_y  price_y\n",
      "0    apple     high        3     high        7\n",
      "1    apple     high        3      low        0\n",
      "2    apple     high        3     high        7\n",
      "3    apple     high        3      low        0\n",
      "4    apple     high        8     high        7\n",
      "5    apple     high        8      low        0\n",
      "6   orange      low        6      low        1\n",
      "7   orange      low        6     high        8\n",
      "8   orange      low        5      low        1\n",
      "9   orange      low        5     high        8\n",
      "10  orange      low       11      low        1\n",
      "11  orange      low       11     high        8\n"
     ]
    }
   ],
   "source": [
    "# - 依照 fruit 欄位做合併\n",
    "print(pd.concat([df1, df2]).reset_index(drop = True))\n",
    "print('---')\n",
    "print(pd.merge(df1, df2, on = 'fruit'))"
   ]
  },
  {
   "cell_type": "code",
   "execution_count": 23,
   "metadata": {},
   "outputs": [],
   "source": [
    "# - 依照 index 索引做合併"
   ]
  },
  {
   "cell_type": "markdown",
   "metadata": {},
   "source": [
    "### 2. [簡答題] 承上題，請問為什麼依照 merge 合併後有些資料不見了？\n"
   ]
  },
  {
   "cell_type": "raw",
   "metadata": {},
   "source": [
    "因為merge中'how'這個parameter的預設值為'inner'，會把相同的資料合併，重複的做消除"
   ]
  },
  {
   "cell_type": "markdown",
   "metadata": {},
   "source": [
    "### 3. [簡答題] 承上題，請問為什麼依照 index 合併會發生錯誤？請用程式解決。"
   ]
  },
  {
   "cell_type": "code",
   "execution_count": 22,
   "metadata": {},
   "outputs": [
    {
     "name": "stdout",
     "output_type": "stream",
     "text": [
      "  fruit_df1 weight_df1  price_df1 fruit_df2 weight_df2  price_df2\n",
      "0     apple       high          3     apple       high        7.0\n",
      "1    banana     medium          9    orange        low        1.0\n",
      "2    orange        low          6      pine       high        5.0\n",
      "3     apple       high          3     apple        low        0.0\n",
      "4    banana     medium         13    orange       high        8.0\n",
      "5    orange        low          5      pine        low       13.0\n",
      "6     apple       high          8       NaN        NaN        NaN\n",
      "7    banana     medium          6       NaN        NaN        NaN\n",
      "8    orange        low         11       NaN        NaN        NaN\n"
     ]
    }
   ],
   "source": [
    "df_join = df1.join(df2, how = 'outer', lsuffix = '_df1', rsuffix = '_df2')\n",
    "print(df_join)"
   ]
  },
  {
   "cell_type": "raw",
   "metadata": {},
   "source": [
    "因為合併後發生column的名字相同的情形，只要重新命名即可。"
   ]
  }
 ],
 "metadata": {
  "colab": {
   "name": "Day_023_HW.ipynb",
   "provenance": []
  },
  "kernelspec": {
   "display_name": "Python 3",
   "language": "python",
   "name": "python3"
  },
  "language_info": {
   "codemirror_mode": {
    "name": "ipython",
    "version": 3
   },
   "file_extension": ".py",
   "mimetype": "text/x-python",
   "name": "python",
   "nbconvert_exporter": "python",
   "pygments_lexer": "ipython3",
   "version": "3.8.5"
  }
 },
 "nbformat": 4,
 "nbformat_minor": 1
}
