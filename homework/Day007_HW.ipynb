{
 "cells": [
  {
   "cell_type": "raw",
   "metadata": {},
   "source": [
    "基礎題"
   ]
  },
  {
   "cell_type": "code",
   "execution_count": 31,
   "metadata": {},
   "outputs": [],
   "source": [
    "import numpy as np\n",
    "import timeit"
   ]
  },
  {
   "cell_type": "raw",
   "metadata": {},
   "source": [
    "1.   請比較對一個 100 x 100 * 100 的陣列，使用不同方法對每一個元素 +1 的時間比較。"
   ]
  },
  {
   "cell_type": "code",
   "execution_count": 49,
   "metadata": {},
   "outputs": [
    {
     "name": "stdout",
     "output_type": "stream",
     "text": [
      "42.3 ns ± 13.9 ns per loop (mean ± std. dev. of 7 runs, 10 loops each)\n"
     ]
    },
    {
     "data": {
      "text/plain": [
       "array([[[ 2,  3, 10, ...,  5,  6,  2],\n",
       "        [ 5, 10,  3, ...,  7,  3,  6],\n",
       "        [ 9,  1,  1, ...,  6,  1,  1],\n",
       "        ...,\n",
       "        [ 6,  3,  2, ...,  5,  3,  9],\n",
       "        [ 3,  5,  8, ..., 10,  8,  6],\n",
       "        [ 7,  4,  9, ...,  5,  1,  1]],\n",
       "\n",
       "       [[ 8,  3,  8, ...,  2,  1,  2],\n",
       "        [ 1,  5,  7, ...,  1,  2,  5],\n",
       "        [ 5,  8,  9, ...,  7,  7,  7],\n",
       "        ...,\n",
       "        [ 5, 10,  1, ...,  6,  4,  8],\n",
       "        [ 3,  3,  8, ...,  1,  8,  2],\n",
       "        [ 8,  7, 10, ...,  6,  8,  7]],\n",
       "\n",
       "       [[ 4,  8,  5, ...,  4,  5,  2],\n",
       "        [ 7,  8,  3, ...,  8,  7,  5],\n",
       "        [ 9,  6,  5, ...,  4,  7,  9],\n",
       "        ...,\n",
       "        [ 9, 10,  2, ...,  7,  3,  2],\n",
       "        [ 5,  5,  1, ..., 10,  7,  2],\n",
       "        [ 5,  1,  9, ...,  4,  3,  6]],\n",
       "\n",
       "       ...,\n",
       "\n",
       "       [[ 9,  9,  9, ...,  8, 10,  9],\n",
       "        [ 2, 10, 10, ...,  2,  8,  8],\n",
       "        [10,  8,  6, ...,  3,  5,  1],\n",
       "        ...,\n",
       "        [ 1,  6,  8, ...,  1,  5,  4],\n",
       "        [10,  9,  6, ...,  9,  3,  3],\n",
       "        [ 7,  9, 10, ...,  6,  3,  3]],\n",
       "\n",
       "       [[ 1,  3,  8, ...,  6,  9,  2],\n",
       "        [ 6,  6,  4, ...,  9,  9,  1],\n",
       "        [ 7,  6, 10, ...,  4,  6,  7],\n",
       "        ...,\n",
       "        [ 4,  7,  4, ...,  8,  1, 10],\n",
       "        [10,  4,  7, ...,  5,  7,  2],\n",
       "        [ 2,  1,  8, ...,  9,  5,  7]],\n",
       "\n",
       "       [[ 9,  9,  2, ...,  5,  3,  5],\n",
       "        [ 8,  9,  2, ...,  9,  3,  6],\n",
       "        [10,  3,  9, ..., 10,  9,  5],\n",
       "        ...,\n",
       "        [ 2,  5,  2, ...,  9,  3,  6],\n",
       "        [ 2,  7,  1, ...,  4,  3,  7],\n",
       "        [ 4,  1,  9, ...,  8,  2,  2]]])"
      ]
     },
     "execution_count": 49,
     "metadata": {},
     "output_type": "execute_result"
    }
   ],
   "source": [
    "z = np.random.randint(0, 10, 1000000).reshape(100, 100, 100)\n",
    "\n",
    "%timeit -n 10 a = 2\n",
    "z + 1"
   ]
  },
  {
   "cell_type": "code",
   "execution_count": 50,
   "metadata": {},
   "outputs": [
    {
     "name": "stdout",
     "output_type": "stream",
     "text": [
      "50.7 ns ± 15.5 ns per loop (mean ± std. dev. of 7 runs, 10 loops each)\n"
     ]
    },
    {
     "data": {
      "text/plain": [
       "array([[[ 2,  3, 10, ...,  5,  6,  2],\n",
       "        [ 5, 10,  3, ...,  7,  3,  6],\n",
       "        [ 9,  1,  1, ...,  6,  1,  1],\n",
       "        ...,\n",
       "        [ 6,  3,  2, ...,  5,  3,  9],\n",
       "        [ 3,  5,  8, ..., 10,  8,  6],\n",
       "        [ 7,  4,  9, ...,  5,  1,  1]],\n",
       "\n",
       "       [[ 8,  3,  8, ...,  2,  1,  2],\n",
       "        [ 1,  5,  7, ...,  1,  2,  5],\n",
       "        [ 5,  8,  9, ...,  7,  7,  7],\n",
       "        ...,\n",
       "        [ 5, 10,  1, ...,  6,  4,  8],\n",
       "        [ 3,  3,  8, ...,  1,  8,  2],\n",
       "        [ 8,  7, 10, ...,  6,  8,  7]],\n",
       "\n",
       "       [[ 4,  8,  5, ...,  4,  5,  2],\n",
       "        [ 7,  8,  3, ...,  8,  7,  5],\n",
       "        [ 9,  6,  5, ...,  4,  7,  9],\n",
       "        ...,\n",
       "        [ 9, 10,  2, ...,  7,  3,  2],\n",
       "        [ 5,  5,  1, ..., 10,  7,  2],\n",
       "        [ 5,  1,  9, ...,  4,  3,  6]],\n",
       "\n",
       "       ...,\n",
       "\n",
       "       [[ 9,  9,  9, ...,  8, 10,  9],\n",
       "        [ 2, 10, 10, ...,  2,  8,  8],\n",
       "        [10,  8,  6, ...,  3,  5,  1],\n",
       "        ...,\n",
       "        [ 1,  6,  8, ...,  1,  5,  4],\n",
       "        [10,  9,  6, ...,  9,  3,  3],\n",
       "        [ 7,  9, 10, ...,  6,  3,  3]],\n",
       "\n",
       "       [[ 1,  3,  8, ...,  6,  9,  2],\n",
       "        [ 6,  6,  4, ...,  9,  9,  1],\n",
       "        [ 7,  6, 10, ...,  4,  6,  7],\n",
       "        ...,\n",
       "        [ 4,  7,  4, ...,  8,  1, 10],\n",
       "        [10,  4,  7, ...,  5,  7,  2],\n",
       "        [ 2,  1,  8, ...,  9,  5,  7]],\n",
       "\n",
       "       [[ 9,  9,  2, ...,  5,  3,  5],\n",
       "        [ 8,  9,  2, ...,  9,  3,  6],\n",
       "        [10,  3,  9, ..., 10,  9,  5],\n",
       "        ...,\n",
       "        [ 2,  5,  2, ...,  9,  3,  6],\n",
       "        [ 2,  7,  1, ...,  4,  3,  7],\n",
       "        [ 4,  1,  9, ...,  8,  2,  2]]])"
      ]
     },
     "execution_count": 50,
     "metadata": {},
     "output_type": "execute_result"
    }
   ],
   "source": [
    "global z\n",
    "def plus_one():\n",
    "    z1 = z + 1\n",
    "    return z1\n",
    "\n",
    "%timeit -n 10 a = 2\n",
    "plus_one()"
   ]
  },
  {
   "cell_type": "code",
   "execution_count": 51,
   "metadata": {},
   "outputs": [
    {
     "name": "stdout",
     "output_type": "stream",
     "text": [
      "43.6 ns ± 15 ns per loop (mean ± std. dev. of 7 runs, 10 loops each)\n"
     ]
    },
    {
     "data": {
      "text/plain": [
       "array([[[ 2,  3, 10, ...,  5,  6,  2],\n",
       "        [ 5, 10,  3, ...,  7,  3,  6],\n",
       "        [ 9,  1,  1, ...,  6,  1,  1],\n",
       "        ...,\n",
       "        [ 6,  3,  2, ...,  5,  3,  9],\n",
       "        [ 3,  5,  8, ..., 10,  8,  6],\n",
       "        [ 7,  4,  9, ...,  5,  1,  1]],\n",
       "\n",
       "       [[ 8,  3,  8, ...,  2,  1,  2],\n",
       "        [ 1,  5,  7, ...,  1,  2,  5],\n",
       "        [ 5,  8,  9, ...,  7,  7,  7],\n",
       "        ...,\n",
       "        [ 5, 10,  1, ...,  6,  4,  8],\n",
       "        [ 3,  3,  8, ...,  1,  8,  2],\n",
       "        [ 8,  7, 10, ...,  6,  8,  7]],\n",
       "\n",
       "       [[ 4,  8,  5, ...,  4,  5,  2],\n",
       "        [ 7,  8,  3, ...,  8,  7,  5],\n",
       "        [ 9,  6,  5, ...,  4,  7,  9],\n",
       "        ...,\n",
       "        [ 9, 10,  2, ...,  7,  3,  2],\n",
       "        [ 5,  5,  1, ..., 10,  7,  2],\n",
       "        [ 5,  1,  9, ...,  4,  3,  6]],\n",
       "\n",
       "       ...,\n",
       "\n",
       "       [[ 9,  9,  9, ...,  8, 10,  9],\n",
       "        [ 2, 10, 10, ...,  2,  8,  8],\n",
       "        [10,  8,  6, ...,  3,  5,  1],\n",
       "        ...,\n",
       "        [ 1,  6,  8, ...,  1,  5,  4],\n",
       "        [10,  9,  6, ...,  9,  3,  3],\n",
       "        [ 7,  9, 10, ...,  6,  3,  3]],\n",
       "\n",
       "       [[ 1,  3,  8, ...,  6,  9,  2],\n",
       "        [ 6,  6,  4, ...,  9,  9,  1],\n",
       "        [ 7,  6, 10, ...,  4,  6,  7],\n",
       "        ...,\n",
       "        [ 4,  7,  4, ...,  8,  1, 10],\n",
       "        [10,  4,  7, ...,  5,  7,  2],\n",
       "        [ 2,  1,  8, ...,  9,  5,  7]],\n",
       "\n",
       "       [[ 9,  9,  2, ...,  5,  3,  5],\n",
       "        [ 8,  9,  2, ...,  9,  3,  6],\n",
       "        [10,  3,  9, ..., 10,  9,  5],\n",
       "        ...,\n",
       "        [ 2,  5,  2, ...,  9,  3,  6],\n",
       "        [ 2,  7,  1, ...,  4,  3,  7],\n",
       "        [ 4,  1,  9, ...,  8,  2,  2]]])"
      ]
     },
     "execution_count": 51,
     "metadata": {},
     "output_type": "execute_result"
    }
   ],
   "source": [
    "for row in z:\n",
    "    for num in row:\n",
    "        num += 1\n",
    "\n",
    "%timeit -n 10 a = 2\n",
    "z"
   ]
  },
  {
   "cell_type": "raw",
   "metadata": {},
   "source": [
    "2.   如何從一個陣列中，找出出現頻率最高的數值與位置？"
   ]
  },
  {
   "cell_type": "code",
   "execution_count": 58,
   "metadata": {},
   "outputs": [
    {
     "name": "stdout",
     "output_type": "stream",
     "text": [
      "[9 2 2 0 9 4 2 6 9 1 0 9 7 6 0 6 0 6 0 5 7 2 5 3 3 7 3 0 6 3 9 6 2 8 4 5 7\n",
      " 1 6 7 5 2 4 5 3 5 1 8 9 4]\n",
      "0\n",
      "9\n",
      "(array([ 0,  4,  8, 11, 30, 48]),)\n"
     ]
    }
   ],
   "source": [
    "z = np.random.randint(0,10,50)\n",
    "print(z)\n",
    "\n",
    "max_freq = np.argmax(z)\n",
    "print(max_freq)\n",
    "print(z[max_freq]) #數值\n",
    "a = np.where(z == z[max_freq]) #位置\n",
    "print(a)"
   ]
  },
  {
   "cell_type": "raw",
   "metadata": {},
   "source": [
    "3.   如何利用 list(...) 實現 a.tolist() 的效果？試著用程式實作。"
   ]
  },
  {
   "cell_type": "code",
   "execution_count": 119,
   "metadata": {},
   "outputs": [
    {
     "name": "stdout",
     "output_type": "stream",
     "text": [
      "[0, 3, 4, 0, 3, 1]\n",
      "[0, 3, 4, 0, 3, 1]\n",
      "[[8, 1, 9, 8], [8, 3, 5, 6], [9, 1, 6, 2]]\n",
      "[[[0, 3], [0, 8], [0, 6]], [[6, 6], [6, 2], [7, 2]]]\n",
      "[array([[0, 3],\n",
      "       [0, 8],\n",
      "       [0, 6]]), array([[6, 6],\n",
      "       [6, 2],\n",
      "       [7, 2]])]\n"
     ]
    }
   ],
   "source": [
    "a = np.random.randint(10, size=6) \n",
    "print(a.tolist())\n",
    "print(list(a))\n",
    "\n",
    "\n",
    "b = np.random.randint(10, size=(3,4)) \n",
    "print(b.tolist())\n",
    "b1 = list(b)\n",
    "\n",
    "\n",
    "\n",
    "\n",
    "\n",
    "c = np.random.randint(10, size=(2,3,2)) \n",
    "print(c.tolist())\n",
    "print(list(c))"
   ]
  },
  {
   "cell_type": "code",
   "execution_count": 121,
   "metadata": {},
   "outputs": [
    {
     "name": "stdout",
     "output_type": "stream",
     "text": [
      "[0, 3, 4, 0, 3, 1]\n",
      "[[8, 1, 9, 8], [8, 3, 5, 6], [9, 1, 6, 2]]\n",
      "[[[8, 1], [9, 0], [5, 7]], [[0, 0], [2, 5], [5, 7]]]\n"
     ]
    }
   ],
   "source": [
    "print(list(a))\n",
    "\n",
    "b_list = []\n",
    "for arr in b1:\n",
    "    new_arr = list(arr)\n",
    "    b_list.append(new_arr)\n",
    "print(b_list)\n",
    "\n",
    "c_list = []\n",
    "c_new_list = []\n",
    "for array in c_new:\n",
    "    for arr in array:\n",
    "        c_list.append(list(arr))\n",
    "    c_new_list.append(c_list)\n",
    "    c_list = []\n",
    "\n",
    "print(c_new_list)"
   ]
  },
  {
   "cell_type": "raw",
   "metadata": {},
   "source": [
    "進階題 array1 = np.array([[10, 8], [3, 5]])"
   ]
  },
  {
   "cell_type": "raw",
   "metadata": {},
   "source": [
    "運用上列array計算反矩陣，乘上原矩陣，並觀察是否為單位矩陣?"
   ]
  },
  {
   "cell_type": "code",
   "execution_count": 125,
   "metadata": {},
   "outputs": [
    {
     "name": "stdout",
     "output_type": "stream",
     "text": [
      "[[1. 0.]\n",
      " [0. 1.]]\n"
     ]
    }
   ],
   "source": [
    "array1 = np.array([[10, 8], [3, 5]])\n",
    "array2 = np.linalg.inv(array1)\n",
    "print(array1.dot(array2)) #是"
   ]
  },
  {
   "cell_type": "raw",
   "metadata": {},
   "source": [
    "運用上列array計算特徵值、特徵向量?"
   ]
  },
  {
   "cell_type": "code",
   "execution_count": 128,
   "metadata": {},
   "outputs": [
    {
     "name": "stdout",
     "output_type": "stream",
     "text": [
      "[13.  2.]\n",
      "[[ 0.93632918 -0.70710678]\n",
      " [ 0.35112344  0.70710678]]\n"
     ]
    }
   ],
   "source": [
    "feature = np.linalg.eig(array1)\n",
    "print(feature[0]) #特徵值\n",
    "print(feature[1]) #特徵向量"
   ]
  },
  {
   "cell_type": "raw",
   "metadata": {},
   "source": [
    "運用上列array計算SVD"
   ]
  },
  {
   "cell_type": "code",
   "execution_count": 137,
   "metadata": {},
   "outputs": [
    {
     "name": "stdout",
     "output_type": "stream",
     "text": [
      "[[-0.91663818 -0.39971796]\n",
      " [-0.39971796  0.91663818]] [13.94721714  1.86417116] [[-0.74319741 -0.6690722 ]\n",
      " [-0.6690722   0.74319741]]\n"
     ]
    }
   ],
   "source": [
    "u, s, vh = np.linalg.svd(array1)\n",
    "print(u, s, vh)"
   ]
  }
 ],
 "metadata": {
  "kernelspec": {
   "display_name": "Python 3",
   "language": "python",
   "name": "python3"
  },
  "language_info": {
   "codemirror_mode": {
    "name": "ipython",
    "version": 3
   },
   "file_extension": ".py",
   "mimetype": "text/x-python",
   "name": "python",
   "nbconvert_exporter": "python",
   "pygments_lexer": "ipython3",
   "version": "3.8.5"
  }
 },
 "nbformat": 4,
 "nbformat_minor": 4
}
