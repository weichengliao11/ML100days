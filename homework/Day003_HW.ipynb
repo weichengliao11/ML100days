{
 "cells": [
  {
   "cell_type": "code",
   "execution_count": 1,
   "metadata": {},
   "outputs": [],
   "source": [
    "import numpy as np"
   ]
  },
  {
   "cell_type": "raw",
   "metadata": {},
   "source": [
    "1. [簡答題] 請比較 np.zeros 和 np.empty 產生出來的陣列有何差異？為什麼要設計兩種方法？"
   ]
  },
  {
   "cell_type": "raw",
   "metadata": {},
   "source": [
    "np.empty初始化時所需要的時間比np.zeros要快得多，前者我們並不在乎陣列的值為何，只是想建立一個指定尺寸的陣列，而後者我們則是希望建立一個所有數值皆為零的指定尺寸的陣列。"
   ]
  },
  {
   "cell_type": "code",
   "execution_count": 6,
   "metadata": {},
   "outputs": [
    {
     "name": "stdout",
     "output_type": "stream",
     "text": [
      "[[0. 0. 0.]\n",
      " [0. 0. 0.]]\n",
      "[[0. 0. 0.]\n",
      " [0. 0. 0.]]\n"
     ]
    }
   ],
   "source": [
    "zero = np.zeros((2, 3))\n",
    "empty = np.empty((2, 3))\n",
    "print(zero)\n",
    "print(empty)"
   ]
  },
  {
   "cell_type": "raw",
   "metadata": {},
   "source": [
    "2. 在不用「整數亂數方法」的限制下，如何將包含小數的轉換整數？請將給定的 a 陣列當中的元素變成去掉小數變成整數。"
   ]
  },
  {
   "cell_type": "code",
   "execution_count": 11,
   "metadata": {},
   "outputs": [
    {
     "name": "stdout",
     "output_type": "stream",
     "text": [
      "[[0.48456572 0.68373478 0.66861923]\n",
      " [0.68184911 0.76958314 0.37489386]]\n",
      "[[0. 1. 1.]\n",
      " [1. 1. 0.]]\n"
     ]
    }
   ],
   "source": [
    "a = np.random.rand(2, 3)\n",
    "print(a)\n",
    "b = np.around(a)\n",
    "print(b)"
   ]
  },
  {
   "cell_type": "raw",
   "metadata": {},
   "source": [
    "3. 承上題，怎樣可以限制整數的範圍介於 m - n 之間？請將給定的 a 陣列當中的元素的範圍調整成 m - n 之間。"
   ]
  },
  {
   "cell_type": "code",
   "execution_count": 22,
   "metadata": {},
   "outputs": [
    {
     "name": "stdout",
     "output_type": "stream",
     "text": [
      "[[3. 3. 3.]\n",
      " [3. 3. 3.]]\n"
     ]
    }
   ],
   "source": [
    "m = 3\n",
    "n = 7\n",
    "a = np.random.rand(2, 3)\n",
    "c = np.clip(a, m, n)\n",
    "print(c)"
   ]
  },
  {
   "cell_type": "raw",
   "metadata": {},
   "source": [
    "延伸題"
   ]
  },
  {
   "cell_type": "code",
   "execution_count": 34,
   "metadata": {},
   "outputs": [],
   "source": [
    "name_list = ['小明','小華','小菁','小美','小張','John','Mark','Tom']\n",
    "sex_list = ['boy','boy','girl','girl','boy','boy','boy','boy']\n",
    "weight_list = [67.5,75.3,50.1,45.5,80.8,90.4,78.4,70.7]\n",
    "rank_list = [8,1,5,4,7,6,2,3]\n",
    "myopia_list = [True,True,False,False,True,True,False,False]\n",
    "\n",
    "#[Unicode,Unicode,float,int,boolean]"
   ]
  },
  {
   "cell_type": "raw",
   "metadata": {},
   "source": [
    "1. 將上列list依照['name', 'sex', 'weight', 'rank', 'myopia']順序擺入array，並且資料型態順序擺入[Unicode,Unicode,float,int,boolean]"
   ]
  },
  {
   "cell_type": "code",
   "execution_count": 36,
   "metadata": {},
   "outputs": [
    {
     "name": "stdout",
     "output_type": "stream",
     "text": [
      "[('小明', 'boy', 67.5, 8,  True) ('小華', 'boy', 75.3, 1,  True)\n",
      " ('小菁', 'girl', 50.1, 5, False) ('小美', 'girl', 45.5, 4, False)\n",
      " ('小張', 'boy', 80.8, 7,  True) ('John', 'boy', 90.4, 6,  True)\n",
      " ('Mark', 'boy', 78.4, 2, False) ('Tom', 'boy', 70.7, 3, False)]\n"
     ]
    }
   ],
   "source": [
    "dt = np.dtype({'names':('name', 'sex', 'weight', 'rank', 'myopia'),\n",
    "               'formats':('U8', 'U8', float, int, bool)})\n",
    "structured = np.zeros(8, dtype = dt)\n",
    "structured['name'] = name_list\n",
    "structured['sex'] = sex_list\n",
    "structured['weight'] = weight_list\n",
    "structured['rank'] = rank_list\n",
    "structured['myopia'] = myopia_list\n",
    "\n",
    "print(structured)"
   ]
  },
  {
   "cell_type": "raw",
   "metadata": {},
   "source": [
    "2. 呈上題，將array中體重(weight)數據集取出算出全部平均體重"
   ]
  },
  {
   "cell_type": "code",
   "execution_count": 38,
   "metadata": {},
   "outputs": [
    {
     "name": "stdout",
     "output_type": "stream",
     "text": [
      "[67.5 75.3 50.1 45.5 80.8 90.4 78.4 70.7]\n",
      "69.8375\n"
     ]
    }
   ],
   "source": [
    "total = 0\n",
    "num = 0\n",
    "for weight in structured['weight']:\n",
    "    total += weight\n",
    "    num += 1\n",
    "\n",
    "avg = total / num\n",
    "print(avg)\n",
    "    "
   ]
  },
  {
   "cell_type": "raw",
   "metadata": {},
   "source": [
    "3. 呈上題，進一步算出男生(sex欄位是boy)平均體重"
   ]
  },
  {
   "cell_type": "code",
   "execution_count": 44,
   "metadata": {},
   "outputs": [
    {
     "name": "stdout",
     "output_type": "stream",
     "text": [
      "77.18333333333332\n"
     ]
    }
   ],
   "source": [
    "boy_w = structured[structured['sex'] == 'boy']['weight']\n",
    "\n",
    "total = 0\n",
    "num = 0\n",
    "for weight in boy_w:\n",
    "    total += weight\n",
    "    num += 1\n",
    "\n",
    "avg = total / num\n",
    "print(avg)"
   ]
  },
  {
   "cell_type": "raw",
   "metadata": {},
   "source": [
    "4. 呈上題，進一步算出女生(sex欄位是girl)平均體重"
   ]
  },
  {
   "cell_type": "code",
   "execution_count": 46,
   "metadata": {},
   "outputs": [
    {
     "name": "stdout",
     "output_type": "stream",
     "text": [
      "47.8\n"
     ]
    }
   ],
   "source": [
    "girl_w = structured[structured['sex'] == 'girl']['weight']\n",
    "\n",
    "total = 0\n",
    "num = 0\n",
    "for weight in girl_w:\n",
    "    total += weight\n",
    "    num += 1\n",
    "\n",
    "avg = total / num\n",
    "print(avg)"
   ]
  }
 ],
 "metadata": {
  "kernelspec": {
   "display_name": "Python 3",
   "language": "python",
   "name": "python3"
  },
  "language_info": {
   "codemirror_mode": {
    "name": "ipython",
    "version": 3
   },
   "file_extension": ".py",
   "mimetype": "text/x-python",
   "name": "python",
   "nbconvert_exporter": "python",
   "pygments_lexer": "ipython3",
   "version": "3.8.5"
  }
 },
 "nbformat": 4,
 "nbformat_minor": 4
}
