{
 "cells": [
  {
   "cell_type": "code",
   "execution_count": 1,
   "metadata": {},
   "outputs": [],
   "source": [
    "import numpy as np"
   ]
  },
  {
   "cell_type": "raw",
   "metadata": {},
   "source": [
    "基礎題1"
   ]
  },
  {
   "cell_type": "code",
   "execution_count": 20,
   "metadata": {},
   "outputs": [
    {
     "name": "stdout",
     "output_type": "stream",
     "text": [
      "[ 1  2 -3 -4 -5 -6  7  8  9 10 11]\n"
     ]
    }
   ],
   "source": [
    "a = np.arange(1, 12)\n",
    "#print(a)\n",
    "a[2:6] = -a[2:6]\n",
    "print(a)"
   ]
  },
  {
   "cell_type": "raw",
   "metadata": {},
   "source": [
    "基礎題2"
   ]
  },
  {
   "cell_type": "code",
   "execution_count": 58,
   "metadata": {},
   "outputs": [
    {
     "name": "stdout",
     "output_type": "stream",
     "text": [
      "10\n"
     ]
    }
   ],
   "source": [
    "a = np.random.rand(3, 6)\n",
    "#print(a)\n",
    "b = a[a > 0.5]\n",
    "#print(b)\n",
    "print(b.size)\n",
    "\n",
    "\n",
    "        "
   ]
  },
  {
   "cell_type": "raw",
   "metadata": {},
   "source": [
    "進階題1\n",
    "請計算各科成績平均、最大值、最小值、標準差，其中數學缺一筆資料可忽略?"
   ]
  },
  {
   "cell_type": "code",
   "execution_count": 59,
   "metadata": {},
   "outputs": [
    {
     "name": "stdout",
     "output_type": "stream",
     "text": [
      "英文平均分數: 67.16666666666667 最高分: 89 最低分: 48 標準差: 13.433995020924426\n",
      "數學平均分數: 66.6 最高分: 85.0 最低分: 60.0 標準差: 9.707728879609279\n",
      "國文平均分數: 75.33333333333333 最高分: 90 最低分: 65 標準差: 8.825468196582484\n"
     ]
    }
   ],
   "source": [
    "english_score = np.array([55,89,76,65,48,70])\n",
    "math_score = np.array([60,85,60,68,np.nan,60])\n",
    "chinese_score = np.array([65,90,82,72,66,77])\n",
    "\n",
    "print('英文平均分數:',english_score.mean(),'最高分:',english_score.max(),'最低分:',english_score.min(),'標準差:',english_score.std())\n",
    "print('數學平均分數:',np.nanmean(math_score),'最高分:',np.nanmax(math_score),'最低分:',np.nanmin(math_score),'標準差:',np.nanstd(math_score))\n",
    "print('國文平均分數:',chinese_score.mean(),'最高分:',chinese_score.max(),'最低分:',chinese_score.min(),'標準差:',chinese_score.std())"
   ]
  },
  {
   "cell_type": "raw",
   "metadata": {},
   "source": [
    "進階題2\n",
    "第五位同學補考數學後成績為55，請計算補考後數學成績平均、最大值、最小值、標準差?"
   ]
  },
  {
   "cell_type": "code",
   "execution_count": 60,
   "metadata": {},
   "outputs": [
    {
     "name": "stdout",
     "output_type": "stream",
     "text": [
      "數學平均分數: 64.66666666666667 最高分: 85.0 最低分: 55.0 標準差: 9.860132971832694\n"
     ]
    }
   ],
   "source": [
    "math_score[4] = 55\n",
    "print('數學平均分數:',np.mean(math_score),'最高分:',np.max(math_score),'最低分:',np.min(math_score),'標準差:',np.std(math_score))"
   ]
  },
  {
   "cell_type": "raw",
   "metadata": {},
   "source": [
    "進階題3\n",
    "用補考後資料找出與國文成績相關係數最高的學科?"
   ]
  },
  {
   "cell_type": "code",
   "execution_count": 75,
   "metadata": {},
   "outputs": [
    {
     "name": "stdout",
     "output_type": "stream",
     "text": [
      "0.9779282830211268\n"
     ]
    }
   ],
   "source": [
    "a = np.corrcoef(chinese_score, math_score)[0, 1]\n",
    "b = np.corrcoef(chinese_score, english_score)[0, 1]\n",
    "\n",
    "print(a if a > b else b) #英文相關係數較高"
   ]
  }
 ],
 "metadata": {
  "kernelspec": {
   "display_name": "Python 3",
   "language": "python",
   "name": "python3"
  },
  "language_info": {
   "codemirror_mode": {
    "name": "ipython",
    "version": 3
   },
   "file_extension": ".py",
   "mimetype": "text/x-python",
   "name": "python",
   "nbconvert_exporter": "python",
   "pygments_lexer": "ipython3",
   "version": "3.8.5"
  }
 },
 "nbformat": 4,
 "nbformat_minor": 4
}
