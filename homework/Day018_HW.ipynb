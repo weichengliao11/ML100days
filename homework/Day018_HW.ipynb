{
 "cells": [
  {
   "cell_type": "raw",
   "metadata": {},
   "source": [
    "1. 在速度較慢的時候，可以先從哪邊開始檢查？"
   ]
  },
  {
   "cell_type": "raw",
   "metadata": {},
   "source": [
    "Ans: 讀取的資料型態、多使用python內建函數、使用向量化的資料處理。"
   ]
  },
  {
   "cell_type": "raw",
   "metadata": {},
   "source": [
    "2. 資料過大時應採取什麼方式讓記憶體占用量下降？"
   ]
  },
  {
   "cell_type": "raw",
   "metadata": {},
   "source": [
    "Ans: 將欄位的資料型態降級。"
   ]
  }
 ],
 "metadata": {
  "kernelspec": {
   "display_name": "Python 3",
   "language": "python",
   "name": "python3"
  },
  "language_info": {
   "codemirror_mode": {
    "name": "ipython",
    "version": 3
   },
   "file_extension": ".py",
   "mimetype": "text/x-python",
   "name": "python",
   "nbconvert_exporter": "python",
   "pygments_lexer": "ipython3",
   "version": "3.8.5"
  }
 },
 "nbformat": 4,
 "nbformat_minor": 4
}
