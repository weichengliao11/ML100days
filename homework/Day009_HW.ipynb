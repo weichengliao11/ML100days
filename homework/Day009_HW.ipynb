{
 "cells": [
  {
   "cell_type": "raw",
   "metadata": {},
   "source": [
    "請建立類似提供結果的 DataFrame："
   ]
  },
  {
   "cell_type": "code",
   "execution_count": 2,
   "metadata": {},
   "outputs": [],
   "source": [
    "import numpy as np\n",
    "import pandas as pd"
   ]
  },
  {
   "cell_type": "raw",
   "metadata": {},
   "source": [
    "   Apples  Bananas\n",
    "0      30       21\n",
    "            Apples  Bananas\n",
    "2017 Sales      30       21\n",
    "2018 Sales      41       34"
   ]
  },
  {
   "cell_type": "code",
   "execution_count": 8,
   "metadata": {},
   "outputs": [
    {
     "name": "stdout",
     "output_type": "stream",
     "text": [
      "   Apple  Bananas\n",
      "0     30       21\n",
      "---\n",
      "            Apples  Bananas\n",
      "2017 Sales      30       21\n",
      "2018 Sales      41       34\n"
     ]
    }
   ],
   "source": [
    "df1 = pd.DataFrame({'Apple': [30], 'Bananas': [21]})\n",
    "df2 = pd.DataFrame([[30, 21], [41, 34]], index = ['2017 Sales', '2018 Sales'], columns = ['Apples', 'Bananas'])\n",
    "print(df1)\n",
    "print('---')\n",
    "print(df2)"
   ]
  },
  {
   "cell_type": "raw",
   "metadata": {},
   "source": [
    "請問如果現在有一個 DataFrame 如下，請問資料在 Python 中可能長怎樣？"
   ]
  },
  {
   "cell_type": "raw",
   "metadata": {},
   "source": [
    "     city  visitor weekday\n",
    "0  Austin      139     Sun\n",
    "1  Dallas      237     Sun\n",
    "2  Austin      139     Mon\n",
    "3  Dallas      456     Mon"
   ]
  },
  {
   "cell_type": "code",
   "execution_count": 9,
   "metadata": {},
   "outputs": [
    {
     "name": "stdout",
     "output_type": "stream",
     "text": [
      "     city  visitor weekday\n",
      "0  Austin      139     Sun\n",
      "1  Dallas      237     Sun\n",
      "2  Austin      139     Mon\n",
      "3  Dallas      456     Mon\n"
     ]
    }
   ],
   "source": [
    "df3 = pd.DataFrame({'city': ['Austin', 'Dallas', 'Austin', 'Dallas'],\n",
    "                    'visitor': [139, 237, 139, 456],\n",
    "                    'weekday': ['Sun', 'Sun', 'Mon', 'Mon']})\n",
    "print(df3)"
   ]
  },
  {
   "cell_type": "raw",
   "metadata": {},
   "source": [
    "假設你想知道每個 weekday 的平均 visitor 數量，可以怎麼做？"
   ]
  },
  {
   "cell_type": "code",
   "execution_count": 25,
   "metadata": {},
   "outputs": [
    {
     "name": "stdout",
     "output_type": "stream",
     "text": [
      "Sun:188.0\n",
      "Mon:297.5\n"
     ]
    }
   ],
   "source": [
    "avg_sun = df3[df3.loc[: ,'weekday'] == 'Sun']['visitor'].mean()\n",
    "avg_mon = df3[df3.loc[: ,'weekday'] == 'Mon']['visitor'].mean()\n",
    "print('Sun:' + str(avg_sun))\n",
    "print('Mon:' + str(avg_mon))"
   ]
  }
 ],
 "metadata": {
  "kernelspec": {
   "display_name": "Python 3",
   "language": "python",
   "name": "python3"
  },
  "language_info": {
   "codemirror_mode": {
    "name": "ipython",
    "version": 3
   },
   "file_extension": ".py",
   "mimetype": "text/x-python",
   "name": "python",
   "nbconvert_exporter": "python",
   "pygments_lexer": "ipython3",
   "version": "3.8.5"
  }
 },
 "nbformat": 4,
 "nbformat_minor": 4
}
