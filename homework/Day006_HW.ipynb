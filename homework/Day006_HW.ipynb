{
 "cells": [
  {
   "cell_type": "raw",
   "metadata": {},
   "source": [
    "基礎題"
   ]
  },
  {
   "cell_type": "code",
   "execution_count": 2,
   "metadata": {},
   "outputs": [],
   "source": [
    "import numpy as np"
   ]
  },
  {
   "cell_type": "raw",
   "metadata": {},
   "source": [
    "1. 請問下列這三種方法有什麼不同？\n",
    "    print(a.sum())\n",
    "    print(np.sum(a))\n",
    "    print(sum(a))"
   ]
  },
  {
   "cell_type": "raw",
   "metadata": {},
   "source": [
    "a.sum()以及np.sum(a)是將所有的值加總的結果\n",
    "sum(a)是將軸的值加總後的結果"
   ]
  },
  {
   "cell_type": "raw",
   "metadata": {},
   "source": [
    "2. 請對一個 5x5 的隨機矩陣作正規化的操作。"
   ]
  },
  {
   "cell_type": "code",
   "execution_count": 10,
   "metadata": {},
   "outputs": [
    {
     "name": "stdout",
     "output_type": "stream",
     "text": [
      "[[0.74636356 0.13321736 0.30518052 0.77914206 0.69920945]\n",
      " [0.95217361 0.7687846  0.92646832 0.28214074 0.24310549]\n",
      " [0.23098334 0.61523924 0.96686137 0.76566491 0.33184357]\n",
      " [0.27221016 0.43412045 0.01832965 0.92506589 0.03099184]\n",
      " [0.72290283 0.5625859  0.65213577 0.43575499 0.99489689]]\n",
      "--------\n",
      "[[0.74550311 0.11764444 0.29373387 0.77906813 0.69721753]\n",
      " [0.95625157 0.76846214 0.92992948 0.27014124 0.23016934]\n",
      " [0.21775632 0.61123246 0.97129177 0.76526759 0.3210367 ]\n",
      " [0.25997238 0.42576771 0.         0.9284934  0.01296602]\n",
      " [0.72147943 0.55731569 0.64901432 0.42744147 1.        ]]\n"
     ]
    }
   ],
   "source": [
    "a = np.random.random((5, 5))\n",
    "print(a)\n",
    "amin, amax = a.min(), a.max()\n",
    "a = (a - amin)/(amax - amin)\n",
    "print('--------')\n",
    "print(a)"
   ]
  },
  {
   "cell_type": "raw",
   "metadata": {},
   "source": [
    "3. 請建立一個長度等於 10 的正整數向量，並且將其中的最大值改成 -1"
   ]
  },
  {
   "cell_type": "code",
   "execution_count": 20,
   "metadata": {},
   "outputs": [
    {
     "name": "stdout",
     "output_type": "stream",
     "text": [
      "[39 45 39 20 35  8  5 37 46 31]\n",
      "5\n",
      "[39 45 39 20 35  8  5 37 -1 31]\n"
     ]
    }
   ],
   "source": [
    "a = np.random.randint(1,50,10)\n",
    "print(a)\n",
    "max_index = np.argmax(a)\n",
    "print(b)\n",
    "a[max_index] = -1\n",
    "print(a)"
   ]
  },
  {
   "cell_type": "raw",
   "metadata": {},
   "source": [
    "進階題"
   ]
  },
  {
   "cell_type": "raw",
   "metadata": {},
   "source": [
    "1.將下列清單(list1)，轉成維度為(5X6)的array，順序按列填充。(hint:order=\"F\")\n",
    "array1 = np.array(range(30))"
   ]
  },
  {
   "cell_type": "code",
   "execution_count": 22,
   "metadata": {},
   "outputs": [
    {
     "name": "stdout",
     "output_type": "stream",
     "text": [
      "[ 0  1  2  3  4  5  6  7  8  9 10 11 12 13 14 15 16 17 18 19 20 21 22 23\n",
      " 24 25 26 27 28 29]\n",
      "[[ 0  5 10 15 20 25]\n",
      " [ 1  6 11 16 21 26]\n",
      " [ 2  7 12 17 22 27]\n",
      " [ 3  8 13 18 23 28]\n",
      " [ 4  9 14 19 24 29]]\n"
     ]
    }
   ],
   "source": [
    "array1 = np.array(range(30))\n",
    "print(array1)\n",
    "array_new = array1.reshape((5, 6), order = 'F')\n",
    "print(array_new)"
   ]
  },
  {
   "cell_type": "raw",
   "metadata": {},
   "source": [
    "2.呈上題的array，找出被6除餘1的數的索引"
   ]
  },
  {
   "cell_type": "code",
   "execution_count": 23,
   "metadata": {},
   "outputs": [
    {
     "name": "stdout",
     "output_type": "stream",
     "text": [
      "[25  1  7 13 19]\n"
     ]
    }
   ],
   "source": [
    "b = array_new[array_new % 6 == 1]\n",
    "print(b)"
   ]
  }
 ],
 "metadata": {
  "kernelspec": {
   "display_name": "Python 3",
   "language": "python",
   "name": "python3"
  },
  "language_info": {
   "codemirror_mode": {
    "name": "ipython",
    "version": 3
   },
   "file_extension": ".py",
   "mimetype": "text/x-python",
   "name": "python",
   "nbconvert_exporter": "python",
   "pygments_lexer": "ipython3",
   "version": "3.8.5"
  }
 },
 "nbformat": 4,
 "nbformat_minor": 4
}
